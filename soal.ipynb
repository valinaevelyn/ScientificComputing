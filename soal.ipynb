{
 "cells": [
  {
   "cell_type": "code",
   "execution_count": 243,
   "metadata": {},
   "outputs": [],
   "source": [
    "import numpy as np\n",
    "from matplotlib import pyplot as plt"
   ]
  },
  {
   "cell_type": "code",
   "execution_count": 244,
   "metadata": {},
   "outputs": [],
   "source": [
    "mX = [\n",
    "        [\n",
    "            [10, 2, -6],\n",
    "            [-1, 4, 2],\n",
    "            [2, 3, 6]\n",
    "        ],\n",
    "        [\n",
    "            [-5, 2, -8],\n",
    "            [4, -3, -9],\n",
    "            [-8, -10, 9]\n",
    "        ],\n",
    "        [\n",
    "            [10, -5, 3, 0],\n",
    "            [3, -9, 2, -2],\n",
    "            [-8, 0, 17, -4],\n",
    "            [3, -3, -8, -15]\n",
    "        ],\n",
    "]\n",
    "\n",
    "mY = [\n",
    "    [17, -4, -12],\n",
    "    [13, -7, -2],\n",
    "    [9, 10, -10, -18]\n",
    "]\n"
   ]
  },
  {
   "cell_type": "code",
   "execution_count": 245,
   "metadata": {},
   "outputs": [],
   "source": [
    "def checkDiagonallyDominant(x):\n",
    "    x = np.array(x)\n",
    "    diag = np.diag(np.abs(x))\n",
    "\n",
    "    sumWithDiagonal = np.sum(np.abs(x), axis=1)\n",
    "    sumWithoutDiagonal = sumWithDiagonal - diag\n",
    "\n",
    "    for i in range(len(x)):\n",
    "        print(f\"Diagonal {i + 1} = {diag[i]}\")\n",
    "        print(f\"Total of not diagonal value =\", end=\" \")\n",
    "\n",
    "        sudahPrint = 0\n",
    "        for j, element in enumerate(x[i]):\n",
    "            if np.abs(element) != diag[i]:\n",
    "                if sudahPrint != 0:\n",
    "                    print(\"+\", end=\" \")\n",
    "\n",
    "                print(f\"|{element}|\", end=\" \")\n",
    "                sudahPrint += 1\n",
    "\n",
    "        print(f\"= {sumWithoutDiagonal[i]}\")\n",
    "\n",
    "    if diag[i] > sumWithoutDiagonal[i]:\n",
    "        print(f\"{diag[i]} > {sumWithoutDiagonal[i]}\")\n",
    "    else:\n",
    "        print(f\"{diag[i]} < {sumWithoutDiagonal[i]}\")\n",
    "        return False\n",
    "\n",
    "    if np.all(sumWithoutDiagonal > diag):\n",
    "        return False\n",
    "    else:\n",
    "        return True"
   ]
  },
  {
   "cell_type": "code",
   "execution_count": 246,
   "metadata": {},
   "outputs": [
    {
     "name": "stdout",
     "output_type": "stream",
     "text": [
      "Equation 1 Array X\n",
      "Diagonal 1 = 10\n",
      "Total of not diagonal value = |2| + |-6| = 8\n",
      "Diagonal 2 = 4\n",
      "Total of not diagonal value = |-1| + |2| = 3\n",
      "Diagonal 3 = 6\n",
      "Total of not diagonal value = |2| + |3| = 5\n",
      "6 > 5\n",
      "This Equation is Diagonally Dominant\n",
      "\n",
      "Equation 2 Array X\n",
      "Diagonal 1 = 5\n",
      "Total of not diagonal value = |2| + |-8| = 10\n",
      "Diagonal 2 = 3\n",
      "Total of not diagonal value = |4| + |-9| = 13\n",
      "Diagonal 3 = 9\n",
      "Total of not diagonal value = |-8| + |-10| = 18\n",
      "9 < 18\n",
      "Not Diagonally Dominant\n",
      "\n",
      "Equation 3 Array X\n",
      "Diagonal 1 = 10\n",
      "Total of not diagonal value = |-5| + |3| + |0| = 8\n",
      "Diagonal 2 = 9\n",
      "Total of not diagonal value = |3| + |2| + |-2| = 7\n",
      "Diagonal 3 = 17\n",
      "Total of not diagonal value = |-8| + |0| + |-4| = 12\n",
      "Diagonal 4 = 15\n",
      "Total of not diagonal value = |3| + |-3| + |-8| = 14\n",
      "15 > 14\n",
      "This Equation is Diagonally Dominant\n",
      "\n"
     ]
    }
   ],
   "source": [
    "for i, x in enumerate(mX):\n",
    "    print(f\"Equation {i+1} Array X\")\n",
    "    if(checkDiagonallyDominant(x)):\n",
    "        print(\"This Equation is Diagonally Dominant\")\n",
    "    else:\n",
    "        print(\"Not Diagonally Dominant\")\n",
    "    print()"
   ]
  },
  {
   "cell_type": "code",
   "execution_count": 247,
   "metadata": {},
   "outputs": [],
   "source": [
    "def gaussSeidel(x, y, epsilon, limit):\n",
    "    x = np.array(x)\n",
    "    y = np.array(y)\n",
    "\n",
    "    diag = np.diag(np.abs(x))\n",
    "    sumWithDiagonal = np.sum(np.abs(x), axis=1)\n",
    "    sumWithoutDiagonal = sumWithDiagonal - diag\n",
    "\n",
    "    if np.all(sumWithoutDiagonal > diag):\n",
    "        print(\"Not diagonally dominant\")\n",
    "        return False\n",
    "    \n",
    "    oldValue = np.zeros(x.shape[0])\n",
    "    diagonal = np.diag(x)\n",
    "    x = -x\n",
    "    np.fill_diagonal(x, 0)\n",
    "\n",
    "    for i in range(limit):\n",
    "        newValue = np.array(oldValue)\n",
    "\n",
    "        print(f\"Iteration: {i+1}|\", end=\" \")\n",
    "        for j, row in enumerate(x):\n",
    "            newValue[j] = (y[j] + np.dot(row, newValue))/diagonal[j]\n",
    "            print(f\" X{j+1} = {newValue[j]}\", end=\" \")\n",
    "        print()\n",
    "\n",
    "        distance = np.sqrt(np.sum(np.dot(newValue - oldValue, newValue - oldValue)))\n",
    "\n",
    "        if distance < epsilon:\n",
    "            print(\"Converged\")\n",
    "\n",
    "            return\n",
    "        \n",
    "        oldValue = newValue\n",
    "\n",
    "    print(\"Not Converged! Need more iteration!\")\n",
    "    return False"
   ]
  },
  {
   "cell_type": "code",
   "execution_count": 248,
   "metadata": {},
   "outputs": [
    {
     "name": "stdout",
     "output_type": "stream",
     "text": [
      "Equation 1: \n",
      "Iteration: 1|  X1 = 1.7  X2 = -0.575  X3 = -2.279166666666667 \n",
      "Iteration: 2|  X1 = 0.44749999999999995  X2 = 0.25145833333333334  X3 = -2.2748958333333333 \n",
      "Iteration: 3|  X1 = 0.2847708333333333  X2 = 0.2086406249999999  X3 = -2.1992439236111108 \n",
      "Iteration: 4|  X1 = 0.3387255208333334  X2 = 0.18430334201388865  X3 = -2.2050601779513888 \n",
      "Iteration: 5|  X1 = 0.34010322482638883  X2 = 0.18755589518229154  X3 = -2.207145689199942 \n",
      "Converged\n",
      "\n",
      "Equation 2: \n",
      "Not diagonally dominant\n",
      "\n",
      "Equation 3: \n",
      "Iteration: 1|  X1 = 0.9  X2 = -0.8111111111111111  X3 = -0.16470588235294117  X4 = 1.6300653594771244 \n",
      "Iteration: 2|  X1 = 0.5438562091503268  X2 = -1.3286637618010166  X3 = 0.051241830065359546  X4 = 1.5471750181554103 \n",
      "Iteration: 3|  X1 = 0.2202955700798838  X2 = -1.3701088517711613  X3 = -0.12052560980819346  X4 = 1.5823612096012456 \n",
      "Iteration: 4|  X1 = 0.25110325705687736  X2 = -1.4058293186275828  X3 = -0.09774877089058819  X4 = 1.5835191929452057 \n",
      "Iteration: 5|  X1 = 0.2264099719533851  X2 = -1.4092562235346036  X3 = -0.10909667368188802  X4 = 1.585318131727938 \n",
      "Not Converged! Need more iteration!\n",
      "\n"
     ]
    }
   ],
   "source": [
    "for i, (x, y) in enumerate(zip(mX, mY)):\n",
    "    print(f\"Equation {i+1}: \")\n",
    "    gaussSeidel(x, y, 0.01456, 5)\n",
    "    print()"
   ]
  },
  {
   "cell_type": "code",
   "execution_count": 249,
   "metadata": {},
   "outputs": [
    {
     "data": {
      "image/png": "[encoded data removed]",
      "text/plain": [
       "<Figure size 640x480 with 1 Axes>"
      ]
     },
     "metadata": {},
     "output_type": "display_data"
    }
   ],
   "source": [
    "x = [1, 5, 7, 2, 3, 9, 10, 4, 6, 8]\n",
    "y = [34, 51, 80, 25, 90, 76, 100, 11, 45, 62]\n",
    "\n",
    "x = np.array(x)\n",
    "y = np.array(y)\n",
    "\n",
    "A = np.vstack([x, np.ones(len(x))]).T\n",
    "Y = np.vstack(y)\n",
    "\n",
    "hasilInvers = np.linalg.inv(np.dot(A.T, A))\n",
    "beta = np.dot(np.dot(hasilInvers, A.T), Y)\n",
    "\n",
    "m = beta[0]\n",
    "b = beta[1]\n",
    "\n",
    "y_garis = m * x + b\n",
    "\n",
    "plt.plot(x, y, 'go')\n",
    "plt.plot(x, y_garis, 'b-')\n",
    "\n",
    "plt.title(\"The Best Least Square Regression\")\n",
    "plt.xlabel(\"X\")\n",
    "plt.ylabel(\"Y\")\n",
    "plt.show()\n",
    "\n"
   ]
  },
  {
   "cell_type": "code",
   "execution_count": 250,
   "metadata": {},
   "outputs": [],
   "source": [
    "def newtonRaphson(f, df, x0, tolerance, max):\n",
    "    if(max <= 0):\n",
    "        print(\"With current iteration, the root is not found\")\n",
    "        return\n",
    "    \n",
    "    if np.abs(f(x0)) < tolerance:\n",
    "        print(f\"The Root: {x0}\")\n",
    "        return\n",
    "    \n",
    "    print(f\"Iteration {max}, root: {x0}\")\n",
    "    return newtonRaphson(f, df, x0 - (f(x0)/df(x0)), tolerance, max-1)"
   ]
  },
  {
   "cell_type": "code",
   "execution_count": 251,
   "metadata": {},
   "outputs": [
    {
     "name": "stdout",
     "output_type": "stream",
     "text": [
      "Equation 1: \n",
      "f(x) = 7x^4- 3x^2 + x\n",
      "f'(x) = 28x^3 - 6x\n",
      "Iteration 5, root: 1\n",
      "Iteration 4, root: 0.782608695652174\n",
      "Iteration 3, root: 0.6210684619745717\n",
      "Iteration 2, root: 0.4941304782745192\n",
      "Iteration 1, root: 0.3675198418052212\n",
      "With current iteration, the root is not found\n",
      "\n",
      "Equation 2: \n",
      "f(x) = 8x^6 + 5x^4 - 2\n",
      "f'(x) = 48x^5 + 20x^3\n",
      "Iteration 5, root: 1\n",
      "Iteration 4, root: 0.8382352941176471\n",
      "Iteration 3, root: 0.7357300136098767\n",
      "Iteration 2, root: 0.6956565368667311\n",
      "The Root: 0.6903195287760319\n"
     ]
    }
   ],
   "source": [
    "from sympy import *\n",
    "\n",
    "x = symbols('x')\n",
    "\n",
    "f1 = lambda x: 7*x**4 - 3*x**2 + x\n",
    "df1 = diff(f1(x), x)\n",
    "df1 = lambdify(x, df1, 'numpy')\n",
    "\n",
    "f2 = lambda x: 8*x**6 + 5*x**4 - 2\n",
    "df2 = diff(f2(x), x)\n",
    "df2 = lambdify(x, df2, 'numpy')\n",
    "\n",
    "x0 = 1\n",
    "tolerance = 0.006541\n",
    "max = 5\n",
    "\n",
    "print(\"Equation 1: \")\n",
    "print(\"f(x) = 7x^4- 3x^2 + x\")\n",
    "print(\"f'(x) = 28x^3 - 6x\")\n",
    "newtonRaphson(f1, df1, x0, tolerance, max)\n",
    "print()\n",
    "\n",
    "print(\"Equation 2: \")\n",
    "print(\"f(x) = 8x^6 + 5x^4 - 2\")\n",
    "print(\"f'(x) = 48x^5 + 20x^3\")\n",
    "newtonRaphson(f2, df2, x0, tolerance, max)\n"
   ]
  },
  {
   "cell_type": "code",
   "execution_count": 252,
   "metadata": {},
   "outputs": [
    {
     "name": "stdout",
     "output_type": "stream",
     "text": [
      "Left Riemann: 645.1387652149571\n",
      "Right Riemann: 530.2422134908192\n",
      "Mid Riemann: 580.4556464297783\n",
      "Trapezoid: 587.690489352888\n"
     ]
    }
   ],
   "source": [
    "a = -4\n",
    "b = 3\n",
    "n = 30\n",
    "\n",
    "boxWidth = (b-a)/(n-1)\n",
    "x = np.linspace(a, b, n)\n",
    "\n",
    "def f(x):\n",
    "    return 3*x**4 - 7*x**2 + 5\n",
    "\n",
    "xLeft = x[:-1]\n",
    "yLeft = f(xLeft)\n",
    "leftRiemann = boxWidth * np.sum(np.abs(yLeft))\n",
    "\n",
    "xRight = x[1:]\n",
    "yRight = f(xRight)\n",
    "rightRiemann = boxWidth * np.sum(np.abs(yRight))\n",
    "\n",
    "xMid = (xLeft + xRight)/2\n",
    "yMid = f(xMid)\n",
    "midRiemann = boxWidth * np.sum(np.abs(yMid))\n",
    "\n",
    "trapezoid = np.sum(np.abs(yLeft) + np.abs(yRight))/2 * boxWidth\n",
    "\n",
    "print(f\"Left Riemann: {leftRiemann}\")\n",
    "print(f\"Right Riemann: {rightRiemann}\")\n",
    "print(f\"Mid Riemann: {midRiemann}\")\n",
    "print(f\"Trapezoid: {trapezoid}\")\n"
   ]
  }
 ],
 "metadata": {
  "kernelspec": {
   "display_name": "Python 3",
   "language": "python",
   "name": "python3"
  },
  "language_info": {
   "codemirror_mode": {
    "name": "ipython",
    "version": 3
   },
   "file_extension": ".py",
   "mimetype": "text/x-python",
   "name": "python",
   "nbconvert_exporter": "python",
   "pygments_lexer": "ipython3",
   "version": "3.11.0"
  },
  "orig_nbformat": 4
 },
 "nbformat": 4,
 "nbformat_minor": 2
}
