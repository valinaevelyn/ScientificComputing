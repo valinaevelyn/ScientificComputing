{
 "cells": [
  {
   "cell_type": "code",
   "execution_count": 72,
   "metadata": {},
   "outputs": [],
   "source": [
    "import numpy as np\n",
    "from matplotlib import pyplot as plt"
   ]
  },
  {
   "cell_type": "code",
   "execution_count": 73,
   "metadata": {},
   "outputs": [],
   "source": [
    "def checkDiagonallyDominant(x):\n",
    "    x = np.array(x)\n",
    "    diag = np.diag(np.abs(x))\n",
    "\n",
    "    sumWithDiagonal = np.sum(np.abs(x), axis=1)\n",
    "    sumWithoutDiagonal = sumWithDiagonal - diag\n",
    "\n",
    "    if np.all(sumWithoutDiagonal > diag):\n",
    "        return False\n",
    "    else:\n",
    "        return True"
   ]
  },
  {
   "cell_type": "code",
   "execution_count": 74,
   "metadata": {},
   "outputs": [],
   "source": [
    "def gaussSeidel(x, y, epsilon, limit):\n",
    "    x = np.array(x)\n",
    "    y = np.array(y)\n",
    "\n",
    "    diag = np.diag(np.abs(x))\n",
    "    sumWithDiagonal = np.sum(np.abs(x), axis=1)\n",
    "    sumWithoutDiagonal = sumWithDiagonal - diag\n",
    "\n",
    "    if np.all(sumWithoutDiagonal > diag):\n",
    "        return False\n",
    "    \n",
    "    oldValue = np.zeros(x.shape[0])\n",
    "    diagonal = np.diag(x)\n",
    "    x = -x\n",
    "    np.fill_diagonal(x, 0)\n",
    "\n",
    "    for i in range(limit):\n",
    "        newValue = np.array(oldValue)\n",
    "\n",
    "        for j, row in enumerate(x):\n",
    "            newValue[j] = (y[j] + np.dot(row, newValue))/diagonal[j]\n",
    "\n",
    "        distance = np.sqrt(np.sum(np.dot(newValue-oldValue, newValue-oldValue)))\n",
    "\n",
    "        if(distance < epsilon):\n",
    "            return newValue\n",
    "        \n",
    "        oldValue = newValue\n",
    "\n",
    "    return False"
   ]
  },
  {
   "cell_type": "code",
   "execution_count": 75,
   "metadata": {},
   "outputs": [
    {
     "data": {
      "image/png": "[encoded data removed]",
      "text/plain": [
       "<Figure size 640x480 with 1 Axes>"
      ]
     },
     "metadata": {},
     "output_type": "display_data"
    }
   ],
   "source": [
    "x = [3,1,7,3,1,8,10,3,9,11,3,7,8,1,4,2]\n",
    "y = [2,5,2,3,6,8,12,7,5,10,6,7,9,3,5,5]\n",
    "\n",
    "x = np.array(x)\n",
    "y = np.array(y)\n",
    "\n",
    "A = np.vstack([x, np.ones(len(x))]).T\n",
    "Y = np.vstack(y)\n",
    "\n",
    "hasilInvers = np.linalg.inv(np.dot(A.T, A))\n",
    "beta = np.dot(np.dot(hasilInvers, A.T), Y)\n",
    "\n",
    "m = beta[0]\n",
    "b = beta[1]\n",
    "\n",
    "y_garis = m * x + b\n",
    "\n",
    "plt.plot(x, y, 'go')\n",
    "plt.plot(x, y_garis, \"r-\")\n",
    "plt.title(\"The Best Least Square Regression\")\n",
    "\n",
    "plt.show()"
   ]
  },
  {
   "cell_type": "code",
   "execution_count": 76,
   "metadata": {},
   "outputs": [],
   "source": [
    "def newtonRaphson(f, df, x0, tolerance, max):\n",
    "    if(max <= 0 ):\n",
    "        print(\"Max Iteration Reached\")\n",
    "        return\n",
    "    \n",
    "    if np.abs(f(x0)) < tolerance:\n",
    "        print(f\"Founded: {x0}\")\n",
    "        return\n",
    "    \n",
    "    return newtonRaphson(f, df, x0 - (f(x0)/df(x0)), tolerance, max-1)"
   ]
  },
  {
   "cell_type": "code",
   "execution_count": 77,
   "metadata": {},
   "outputs": [
    {
     "name": "stdout",
     "output_type": "stream",
     "text": [
      "Max Iteration Reached\n",
      "Founded: 0.6903195287760319\n"
     ]
    }
   ],
   "source": [
    "from sympy import*\n",
    "\n",
    "x = symbols('x')\n",
    "\n",
    "f = lambda x:  7*x**4 - 3*x**2 + x\n",
    "df = diff(f(x), x)\n",
    "df = lambdify(x, df, 'numpy')\n",
    "# df = lambda x: 28*x**3 - 6*x + 1\n",
    "\n",
    "f2 = lambda x: 8*x**6 + 5*x**4 - 2\n",
    "df2 = diff(f2(x), x)\n",
    "df2 = lambdify(x, df2, 'numpy')\n",
    "\n",
    "x0 = 1\n",
    "tolerance = 0.006541\n",
    "max = 5\n",
    "\n",
    "newtonRaphson(f, df, x0, tolerance,  max)\n",
    "newtonRaphson(f2, df2, x0, tolerance, max)\n"
   ]
  },
  {
   "cell_type": "code",
   "execution_count": 78,
   "metadata": {},
   "outputs": [
    {
     "name": "stdout",
     "output_type": "stream",
     "text": [
      "Left Riemann Sum: 645.1387652149571\n",
      "Right Riemann Sum: 530.2422134908192\n",
      "Mid Riemann Sum: 580.4556464297783\n",
      "Trapezoid Sum: 587.690489352888\n"
     ]
    }
   ],
   "source": [
    "a = -4\n",
    "b = 3\n",
    "n = 30\n",
    "\n",
    "boxWidth = (b-a)/(n-1)\n",
    "x = np.linspace(a, b, n)\n",
    "\n",
    "def f(x):\n",
    "    return 3*x**4 - 7 *x**2 + 5\n",
    "\n",
    "xLeft = x[:-1]\n",
    "yLeft = f(xLeft)\n",
    "leftRiemann = boxWidth * np.sum(np.abs(yLeft))\n",
    "print(f\"Left Riemann Sum: {leftRiemann}\")\n",
    "\n",
    "xRight = x[1:]\n",
    "yRight = f(xRight)\n",
    "rightRiemann = boxWidth * np.sum(np.abs(yRight))\n",
    "print(f\"Right Riemann Sum: {rightRiemann}\")\n",
    "\n",
    "xMid = (xLeft + xRight)/2\n",
    "yMid = f(xMid)\n",
    "midRiemann = boxWidth * np.sum(np.abs(yMid))\n",
    "print(f\"Mid Riemann Sum: {midRiemann}\")\n",
    "\n",
    "trapezoid = np.sum(np.abs(yLeft) + np.abs(yRight))/2 * boxWidth\n",
    "print(f\"Trapezoid Sum: {trapezoid}\")\n"
   ]
  }
 ],
 "metadata": {
  "kernelspec": {
   "display_name": "Python 3",
   "language": "python",
   "name": "python3"
  },
  "language_info": {
   "codemirror_mode": {
    "name": "ipython",
    "version": 3
   },
   "file_extension": ".py",
   "mimetype": "text/x-python",
   "name": "python",
   "nbconvert_exporter": "python",
   "pygments_lexer": "ipython3",
   "version": "3.11.0"
  },
  "orig_nbformat": 4
 },
 "nbformat": 4,
 "nbformat_minor": 2
}
